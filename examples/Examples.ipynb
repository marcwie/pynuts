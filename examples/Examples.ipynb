{
 "cells": [
  {
   "cell_type": "code",
   "execution_count": 1,
   "id": "8e816c69",
   "metadata": {},
   "outputs": [],
   "source": [
    "# Define some test points in Germany\n",
    "points = [(54.1324656747913,  9.48191537752328),\n",
    "          (53.4902857036398, 10.09714972535463),\n",
    "          (52.6453070050204,  9.48194130586525),\n",
    "          (53.0677231057649,  8.87288829354121),\n",
    "          (51.7880991820875,  8.18976126620481),\n",
    "          (51.3069917921888,  9.14449301525328),\n",
    "          (49.8754649343261,  7.36671661824714),\n",
    "          (48.3892768875272,  8.51074858753931),\n",
    "          (48.5911009418961, 11.26794803522243),\n",
    "          (49.4439183013869,  6.90581159560435),\n",
    "          (52.4651603657228, 13.51485989044364),\n",
    "          (52.9389497783712, 13.58070345934354),\n",
    "          (53.8954153038739, 12.88111553214959),\n",
    "          (51.1265547938611, 13.11156802329922),\n",
    "          (52.4250273260938, 11.60539638471411),\n",
    "          (50.8883326825732, 11.38317433967697)]"
   ]
  },
  {
   "cell_type": "code",
   "execution_count": 2,
   "id": "e4b15895",
   "metadata": {},
   "outputs": [
    {
     "name": "stdout",
     "output_type": "stream",
     "text": [
      "Loading LAU data from 2019 for DE\n",
      "Loading additional NUTS data for hierarchical search.\n",
      "Loading LEVEL3 NUTS data from 2016 for DE at 1m spatial resolution\n",
      "Loading LEVEL3 NUTS data from 2016 for DE at 60m spatial resolution\n",
      "Loading correspondence table for DE\n",
      "\n",
      "latitude\t\tlongitude\t\tLAU ID\t\tNUTS3 ID\tName\n",
      "--------------------------------------------------------------------------------------------------------------\n",
      "54.1324656747913\t9.48191537752328\t01058100\tDEF0B\t\tLütjenwestedt\n",
      "53.4902857036398\t10.09714972535463\t02000000\tDE600\t\tHamburg, Freie und Hansestadt\n",
      "52.6453070050204\t9.48194130586525\t03256026\tDE927\t\tRodewald\n",
      "53.0677231057649\t8.87288829354121\t04011000\tDE501\t\tBremen, Stadt\n",
      "51.7880991820875\t8.18976126620481\t05570028\tDEA38\t\tOelde, Stadt\n",
      "51.3069917921888\t9.14449301525328\t06633028\tDE734\t\tWolfhagen, Stadt\n",
      "49.8754649343261\t7.36671661824714\t07134035\tDEB15\t\tHausen\n",
      "48.3892768875272\t8.51074858753931\t08237045\tDE12C\t\tLoßburg\n",
      "48.5911009418961\t11.26794803522243\t09185158\tDE21I\t\tSchrobenhausen, St\n",
      "49.4439183013869\t6.90581159560435\t10044112\tDEC04\t\tLebach, Stadt\n",
      "52.4651603657228\t13.51485989044364\t11000000\tDE300\t\tBerlin, Stadt\n",
      "52.9389497783712\t13.58070345934354\t12060198\tDE405\t\tSchorfheide\n",
      "53.8954153038739\t12.88111553214959\t13071027\tDE80J\t\tDargun, Stadt\n",
      "51.1265547938611\t13.11156802329922\t14522080\tDED43\t\tDöbeln, Stadt\n",
      "52.4250273260938\t11.60539638471411\t15083120\tDEE07\t\tBurgstall\n",
      "50.8883326825732\t11.38317433967697\t16071008\tDEG0G\t\tBlankenhain, Stadt\n"
     ]
    }
   ],
   "source": [
    "# Find LAU ids for all points in the test data set\n",
    "from pynuts import LauFinder\n",
    "\n",
    "finder = LauFinder(country_code=\"DE\")\n",
    "\n",
    "print()\n",
    "print(\"latitude\\t\\tlongitude\\t\\tLAU ID\\t\\tNUTS3 ID\\tName\")\n",
    "print(110*\"-\")\n",
    "for lat, lon in points:   \n",
    "    region = finder.find(lat=lat, lon=lon)\n",
    "    print(f\"{lat}\\t{lon}\\t{region.LAU_ID}\\t{region.NUTS3_CODE}\\t\\t{region.LAU_NAME}\")"
   ]
  },
  {
   "cell_type": "code",
   "execution_count": 3,
   "id": "55e065f5",
   "metadata": {},
   "outputs": [
    {
     "name": "stdout",
     "output_type": "stream",
     "text": [
      "Loading LEVEL3 NUTS data from 2016 for DE at 10m spatial resolution\n",
      "\n",
      "latitude\t\tlongitude\t\tNUTS3 ID\tName\n",
      "------------------------------------------------------------------------------------------\n",
      "54.1324656747913\t9.48191537752328\tDEF0B\t\tRendsburg-Eckernförde\n",
      "53.4902857036398\t10.09714972535463\tDE600\t\tHamburg\n",
      "52.6453070050204\t9.48194130586525\tDE927\t\tNienburg (Weser)\n",
      "53.0677231057649\t8.87288829354121\tDE501\t\tBremen, Kreisfreie Stadt\n",
      "51.7880991820875\t8.18976126620481\tDEA38\t\tWarendorf\n",
      "51.3069917921888\t9.14449301525328\tDE734\t\tKassel, Landkreis\n",
      "49.8754649343261\t7.36671661824714\tDEB15\t\tBirkenfeld\n",
      "48.3892768875272\t8.51074858753931\tDE12C\t\tFreudenstadt\n",
      "48.5911009418961\t11.26794803522243\tDE21I\t\tNeuburg-Schrobenhausen\n",
      "49.4439183013869\t6.90581159560435\tDEC04\t\tSaarlouis\n",
      "52.4651603657228\t13.51485989044364\tDE300\t\tBerlin\n",
      "52.9389497783712\t13.58070345934354\tDE405\t\tBarnim\n",
      "53.8954153038739\t12.88111553214959\tDE80J\t\tMecklenburgische Seenplatte\n",
      "51.1265547938611\t13.11156802329922\tDED43\t\tMittelsachsen\n",
      "52.4250273260938\t11.60539638471411\tDEE07\t\tBörde\n",
      "50.8883326825732\t11.38317433967697\tDEG0G\t\tWeimarer Land\n"
     ]
    }
   ],
   "source": [
    "# Find NUTS3 ids for all points in the test data set\n",
    "from pynuts import NutsFinder\n",
    "\n",
    "finder = NutsFinder(country_code=\"DE\", level=3, spatial_resolution=10)\n",
    "\n",
    "print()\n",
    "print(\"latitude\\t\\tlongitude\\t\\tNUTS3 ID\\tName\")\n",
    "print(90*\"-\")\n",
    "for lat, lon in points:   \n",
    "    region = finder.find(lat=lat, lon=lon)\n",
    "    print(f\"{lat}\\t{lon}\\t{region.NUTS_ID}\\t\\t{region.NUTS_NAME}\")"
   ]
  }
 ],
 "metadata": {
  "kernelspec": {
   "display_name": "pynuts",
   "language": "python",
   "name": "pynuts"
  },
  "language_info": {
   "codemirror_mode": {
    "name": "ipython",
    "version": 3
   },
   "file_extension": ".py",
   "mimetype": "text/x-python",
   "name": "python",
   "nbconvert_exporter": "python",
   "pygments_lexer": "ipython3",
   "version": "3.8.10"
  }
 },
 "nbformat": 4,
 "nbformat_minor": 5
}
